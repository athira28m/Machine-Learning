{
 "cells": [
  {
   "cell_type": "markdown",
   "id": "e26532dc",
   "metadata": {},
   "source": [
    "# step 1: Import the libraries"
   ]
  },
  {
   "cell_type": "code",
   "execution_count": 1,
   "id": "ab2cca22",
   "metadata": {},
   "outputs": [],
   "source": [
    "import pandas as pd\n",
    "import numpy as np\n",
    "import matplotlib.pyplot as plt\n",
    "import seaborn as sns\n",
    "import warnings\n",
    "warnings.filterwarnings('ignore')"
   ]
  },
  {
   "cell_type": "markdown",
   "id": "f647a5c3",
   "metadata": {},
   "source": [
    "# step 2: Load the data "
   ]
  },
  {
   "cell_type": "code",
   "execution_count": 2,
   "id": "265a0c2e",
   "metadata": {},
   "outputs": [
    {
     "data": {
      "text/html": [
       "<div>\n",
       "<style scoped>\n",
       "    .dataframe tbody tr th:only-of-type {\n",
       "        vertical-align: middle;\n",
       "    }\n",
       "\n",
       "    .dataframe tbody tr th {\n",
       "        vertical-align: top;\n",
       "    }\n",
       "\n",
       "    .dataframe thead th {\n",
       "        text-align: right;\n",
       "    }\n",
       "</style>\n",
       "<table border=\"1\" class=\"dataframe\">\n",
       "  <thead>\n",
       "    <tr style=\"text-align: right;\">\n",
       "      <th></th>\n",
       "      <th>TV</th>\n",
       "      <th>Radio</th>\n",
       "      <th>Social Media</th>\n",
       "      <th>Influencer</th>\n",
       "      <th>Sales</th>\n",
       "    </tr>\n",
       "  </thead>\n",
       "  <tbody>\n",
       "    <tr>\n",
       "      <th>0</th>\n",
       "      <td>16.0</td>\n",
       "      <td>6.566231</td>\n",
       "      <td>2.907983</td>\n",
       "      <td>Mega</td>\n",
       "      <td>54.732757</td>\n",
       "    </tr>\n",
       "    <tr>\n",
       "      <th>1</th>\n",
       "      <td>13.0</td>\n",
       "      <td>9.237765</td>\n",
       "      <td>2.409567</td>\n",
       "      <td>Mega</td>\n",
       "      <td>46.677897</td>\n",
       "    </tr>\n",
       "    <tr>\n",
       "      <th>2</th>\n",
       "      <td>41.0</td>\n",
       "      <td>15.886446</td>\n",
       "      <td>2.913410</td>\n",
       "      <td>Mega</td>\n",
       "      <td>150.177829</td>\n",
       "    </tr>\n",
       "    <tr>\n",
       "      <th>3</th>\n",
       "      <td>83.0</td>\n",
       "      <td>30.020028</td>\n",
       "      <td>6.922304</td>\n",
       "      <td>Mega</td>\n",
       "      <td>298.246340</td>\n",
       "    </tr>\n",
       "    <tr>\n",
       "      <th>4</th>\n",
       "      <td>15.0</td>\n",
       "      <td>8.437408</td>\n",
       "      <td>1.405998</td>\n",
       "      <td>Micro</td>\n",
       "      <td>56.594181</td>\n",
       "    </tr>\n",
       "  </tbody>\n",
       "</table>\n",
       "</div>"
      ],
      "text/plain": [
       "     TV      Radio  Social Media Influencer       Sales\n",
       "0  16.0   6.566231      2.907983       Mega   54.732757\n",
       "1  13.0   9.237765      2.409567       Mega   46.677897\n",
       "2  41.0  15.886446      2.913410       Mega  150.177829\n",
       "3  83.0  30.020028      6.922304       Mega  298.246340\n",
       "4  15.0   8.437408      1.405998      Micro   56.594181"
      ]
     },
     "execution_count": 2,
     "metadata": {},
     "output_type": "execute_result"
    }
   ],
   "source": [
    "data = pd.read_csv(r'https://raw.githubusercontent.com/edyoda/DS31032023/main/Machine%20Learning/August/26-8-2023/Assignment/Marketing.csv')\n",
    "data.head()"
   ]
  },
  {
   "cell_type": "code",
   "execution_count": 3,
   "id": "4b3dd77b",
   "metadata": {},
   "outputs": [
    {
     "data": {
      "text/plain": [
       "(4572, 5)"
      ]
     },
     "execution_count": 3,
     "metadata": {},
     "output_type": "execute_result"
    }
   ],
   "source": [
    "data.shape"
   ]
  },
  {
   "cell_type": "markdown",
   "id": "32cf4900",
   "metadata": {},
   "source": [
    "### Observations\n",
    "- TV, Radio, Social Media and Influencer are independent variables and sales is dependent on these independent variables.\n",
    "- Sales is the target variable in the above data."
   ]
  },
  {
   "cell_type": "markdown",
   "id": "7af7d970",
   "metadata": {},
   "source": [
    "# step 3: data cleaning, data wrangling, data preprocessing"
   ]
  },
  {
   "cell_type": "markdown",
   "id": "05db2637",
   "metadata": {},
   "source": [
    "## Missing Value Treatment"
   ]
  },
  {
   "cell_type": "code",
   "execution_count": 4,
   "id": "d189172c",
   "metadata": {},
   "outputs": [
    {
     "data": {
      "text/plain": [
       "TV              10\n",
       "Radio            4\n",
       "Social Media     6\n",
       "Influencer       0\n",
       "Sales            6\n",
       "dtype: int64"
      ]
     },
     "execution_count": 4,
     "metadata": {},
     "output_type": "execute_result"
    }
   ],
   "source": [
    "# checking for missing values\n",
    "\n",
    "data.isnull().sum()"
   ]
  },
  {
   "cell_type": "code",
   "execution_count": 5,
   "id": "77417c7b",
   "metadata": {},
   "outputs": [
    {
     "data": {
      "text/plain": [
       "TV              0.218723\n",
       "Radio           0.087489\n",
       "Social Media    0.131234\n",
       "Influencer      0.000000\n",
       "Sales           0.131234\n",
       "dtype: float64"
      ]
     },
     "execution_count": 5,
     "metadata": {},
     "output_type": "execute_result"
    }
   ],
   "source": [
    "# Percentage of missing values\n",
    "\n",
    "data.isnull().sum()/len(data)*100"
   ]
  },
  {
   "cell_type": "markdown",
   "id": "307a53a9",
   "metadata": {},
   "source": [
    "## Missing value treatment"
   ]
  },
  {
   "cell_type": "markdown",
   "id": "94c69cba",
   "metadata": {},
   "source": [
    "### Numerical columns TV,Radio,Social Media,Sales  - median imputation."
   ]
  },
  {
   "cell_type": "code",
   "execution_count": 6,
   "id": "69663bc6",
   "metadata": {},
   "outputs": [
    {
     "data": {
      "text/plain": [
       "TV              0\n",
       "Radio           0\n",
       "Social Media    0\n",
       "Influencer      0\n",
       "Sales           0\n",
       "dtype: int64"
      ]
     },
     "execution_count": 6,
     "metadata": {},
     "output_type": "execute_result"
    }
   ],
   "source": [
    "data['TV'] = data['TV'].fillna(data['TV'].median())\n",
    "data['Radio'] = data['Radio'].fillna(data['Radio'].median())\n",
    "data['Social Media'] = data['Social Media'].fillna(data['Social Media'].median())\n",
    "data['Sales'] = data['Sales'].fillna(data['Sales'].median())\n",
    "data.isnull().sum()"
   ]
  },
  {
   "cell_type": "markdown",
   "id": "7c1d1113",
   "metadata": {},
   "source": [
    "## Checking relation between dependent and independent columns."
   ]
  },
  {
   "cell_type": "code",
   "execution_count": 7,
   "id": "36cfd3d4",
   "metadata": {},
   "outputs": [
    {
     "data": {
      "text/plain": [
       "<Axes: >"
      ]
     },
     "execution_count": 7,
     "metadata": {},
     "output_type": "execute_result"
    },
    {
     "data": {
      "image/png": "[encoded data removed]",
      "text/plain": [
       "<Figure size 640x480 with 2 Axes>"
      ]
     },
     "metadata": {},
     "output_type": "display_data"
    }
   ],
   "source": [
    "sns.heatmap(data.corr(),annot = True)"
   ]
  },
  {
   "cell_type": "markdown",
   "id": "800a5f6a",
   "metadata": {},
   "source": [
    "### Observations:\n",
    "- TV(indep) and sales(dep) => 1\n",
    "- radio(indep) and sales(dep) => 0.87\n",
    "- Social media(indep) and sales(dep) => 0.53\n",
    "- TV(indep) and socialmedia(indep) => 0.53 : multicolinearity\n",
    "- TV(indep) and radio(indep) => 0.87: multicolinearity\n",
    "- radio(indep) and socialmedia(indep) => 0.61 : multicolinearity\n",
    "- Also the influencer column contains text data.We have to do feature scaling.\n",
    "\n",
    "- Since the radio column is creating more than one multicolinearity drop the radio column for further analysis.\n",
    "- Ignore other multicolinearity."
   ]
  },
  {
   "cell_type": "code",
   "execution_count": 8,
   "id": "e7be3ced",
   "metadata": {},
   "outputs": [
    {
     "data": {
      "text/html": [
       "<div>\n",
       "<style scoped>\n",
       "    .dataframe tbody tr th:only-of-type {\n",
       "        vertical-align: middle;\n",
       "    }\n",
       "\n",
       "    .dataframe tbody tr th {\n",
       "        vertical-align: top;\n",
       "    }\n",
       "\n",
       "    .dataframe thead th {\n",
       "        text-align: right;\n",
       "    }\n",
       "</style>\n",
       "<table border=\"1\" class=\"dataframe\">\n",
       "  <thead>\n",
       "    <tr style=\"text-align: right;\">\n",
       "      <th></th>\n",
       "      <th>TV</th>\n",
       "      <th>Social Media</th>\n",
       "      <th>Influencer</th>\n",
       "      <th>Sales</th>\n",
       "    </tr>\n",
       "  </thead>\n",
       "  <tbody>\n",
       "    <tr>\n",
       "      <th>0</th>\n",
       "      <td>16.0</td>\n",
       "      <td>2.907983</td>\n",
       "      <td>Mega</td>\n",
       "      <td>54.732757</td>\n",
       "    </tr>\n",
       "    <tr>\n",
       "      <th>1</th>\n",
       "      <td>13.0</td>\n",
       "      <td>2.409567</td>\n",
       "      <td>Mega</td>\n",
       "      <td>46.677897</td>\n",
       "    </tr>\n",
       "    <tr>\n",
       "      <th>2</th>\n",
       "      <td>41.0</td>\n",
       "      <td>2.913410</td>\n",
       "      <td>Mega</td>\n",
       "      <td>150.177829</td>\n",
       "    </tr>\n",
       "    <tr>\n",
       "      <th>3</th>\n",
       "      <td>83.0</td>\n",
       "      <td>6.922304</td>\n",
       "      <td>Mega</td>\n",
       "      <td>298.246340</td>\n",
       "    </tr>\n",
       "    <tr>\n",
       "      <th>4</th>\n",
       "      <td>15.0</td>\n",
       "      <td>1.405998</td>\n",
       "      <td>Micro</td>\n",
       "      <td>56.594181</td>\n",
       "    </tr>\n",
       "  </tbody>\n",
       "</table>\n",
       "</div>"
      ],
      "text/plain": [
       "     TV  Social Media Influencer       Sales\n",
       "0  16.0      2.907983       Mega   54.732757\n",
       "1  13.0      2.409567       Mega   46.677897\n",
       "2  41.0      2.913410       Mega  150.177829\n",
       "3  83.0      6.922304       Mega  298.246340\n",
       "4  15.0      1.405998      Micro   56.594181"
      ]
     },
     "execution_count": 8,
     "metadata": {},
     "output_type": "execute_result"
    }
   ],
   "source": [
    "data = data.drop('Radio',axis =1)\n",
    "data.head()"
   ]
  },
  {
   "cell_type": "code",
   "execution_count": 9,
   "id": "a603ce30",
   "metadata": {},
   "outputs": [
    {
     "data": {
      "text/plain": [
       "<Axes: >"
      ]
     },
     "execution_count": 9,
     "metadata": {},
     "output_type": "execute_result"
    },
    {
     "data": {
      "image/png": "[encoded data removed]",
      "text/plain": [
       "<Figure size 640x480 with 2 Axes>"
      ]
     },
     "metadata": {},
     "output_type": "display_data"
    }
   ],
   "source": [
    "sns.heatmap(data.corr(),annot = True)"
   ]
  },
  {
   "cell_type": "markdown",
   "id": "80c31e42",
   "metadata": {},
   "source": [
    "##  Feature scaling"
   ]
  },
  {
   "cell_type": "code",
   "execution_count": 10,
   "id": "39afb55d",
   "metadata": {},
   "outputs": [
    {
     "data": {
      "text/html": [
       "<style>#sk-container-id-1 {color: black;background-color: white;}#sk-container-id-1 pre{padding: 0;}#sk-container-id-1 div.sk-toggleable {background-color: white;}#sk-container-id-1 label.sk-toggleable__label {cursor: pointer;display: block;width: 100%;margin-bottom: 0;padding: 0.3em;box-sizing: border-box;text-align: center;}#sk-container-id-1 label.sk-toggleable__label-arrow:before {content: \"▸\";float: left;margin-right: 0.25em;color: #696969;}#sk-container-id-1 label.sk-toggleable__label-arrow:hover:before {color: black;}#sk-container-id-1 div.sk-estimator:hover label.sk-toggleable__label-arrow:before {color: black;}#sk-container-id-1 div.sk-toggleable__content {max-height: 0;max-width: 0;overflow: hidden;text-align: left;background-color: #f0f8ff;}#sk-container-id-1 div.sk-toggleable__content pre {margin: 0.2em;color: black;border-radius: 0.25em;background-color: #f0f8ff;}#sk-container-id-1 input.sk-toggleable__control:checked~div.sk-toggleable__content {max-height: 200px;max-width: 100%;overflow: auto;}#sk-container-id-1 input.sk-toggleable__control:checked~label.sk-toggleable__label-arrow:before {content: \"▾\";}#sk-container-id-1 div.sk-estimator input.sk-toggleable__control:checked~label.sk-toggleable__label {background-color: #d4ebff;}#sk-container-id-1 div.sk-label input.sk-toggleable__control:checked~label.sk-toggleable__label {background-color: #d4ebff;}#sk-container-id-1 input.sk-hidden--visually {border: 0;clip: rect(1px 1px 1px 1px);clip: rect(1px, 1px, 1px, 1px);height: 1px;margin: -1px;overflow: hidden;padding: 0;position: absolute;width: 1px;}#sk-container-id-1 div.sk-estimator {font-family: monospace;background-color: #f0f8ff;border: 1px dotted black;border-radius: 0.25em;box-sizing: border-box;margin-bottom: 0.5em;}#sk-container-id-1 div.sk-estimator:hover {background-color: #d4ebff;}#sk-container-id-1 div.sk-parallel-item::after {content: \"\";width: 100%;border-bottom: 1px solid gray;flex-grow: 1;}#sk-container-id-1 div.sk-label:hover label.sk-toggleable__label {background-color: #d4ebff;}#sk-container-id-1 div.sk-serial::before {content: \"\";position: absolute;border-left: 1px solid gray;box-sizing: border-box;top: 0;bottom: 0;left: 50%;z-index: 0;}#sk-container-id-1 div.sk-serial {display: flex;flex-direction: column;align-items: center;background-color: white;padding-right: 0.2em;padding-left: 0.2em;position: relative;}#sk-container-id-1 div.sk-item {position: relative;z-index: 1;}#sk-container-id-1 div.sk-parallel {display: flex;align-items: stretch;justify-content: center;background-color: white;position: relative;}#sk-container-id-1 div.sk-item::before, #sk-container-id-1 div.sk-parallel-item::before {content: \"\";position: absolute;border-left: 1px solid gray;box-sizing: border-box;top: 0;bottom: 0;left: 50%;z-index: -1;}#sk-container-id-1 div.sk-parallel-item {display: flex;flex-direction: column;z-index: 1;position: relative;background-color: white;}#sk-container-id-1 div.sk-parallel-item:first-child::after {align-self: flex-end;width: 50%;}#sk-container-id-1 div.sk-parallel-item:last-child::after {align-self: flex-start;width: 50%;}#sk-container-id-1 div.sk-parallel-item:only-child::after {width: 0;}#sk-container-id-1 div.sk-dashed-wrapped {border: 1px dashed gray;margin: 0 0.4em 0.5em 0.4em;box-sizing: border-box;padding-bottom: 0.4em;background-color: white;}#sk-container-id-1 div.sk-label label {font-family: monospace;font-weight: bold;display: inline-block;line-height: 1.2em;}#sk-container-id-1 div.sk-label-container {text-align: center;}#sk-container-id-1 div.sk-container {/* jupyter's `normalize.less` sets `[hidden] { display: none; }` but bootstrap.min.css set `[hidden] { display: none !important; }` so we also need the `!important` here to be able to override the default hidden behavior on the sphinx rendered scikit-learn.org. See: https://github.com/scikit-learn/scikit-learn/issues/21755 */display: inline-block !important;position: relative;}#sk-container-id-1 div.sk-text-repr-fallback {display: none;}</style><div id=\"sk-container-id-1\" class=\"sk-top-container\"><div class=\"sk-text-repr-fallback\"><pre>MinMaxScaler()</pre><b>In a Jupyter environment, please rerun this cell to show the HTML representation or trust the notebook. <br />On GitHub, the HTML representation is unable to render, please try loading this page with nbviewer.org.</b></div><div class=\"sk-container\" hidden><div class=\"sk-item\"><div class=\"sk-estimator sk-toggleable\"><input class=\"sk-toggleable__control sk-hidden--visually\" id=\"sk-estimator-id-1\" type=\"checkbox\" checked><label for=\"sk-estimator-id-1\" class=\"sk-toggleable__label sk-toggleable__label-arrow\">MinMaxScaler</label><div class=\"sk-toggleable__content\"><pre>MinMaxScaler()</pre></div></div></div></div></div>"
      ],
      "text/plain": [
       "MinMaxScaler()"
      ]
     },
     "execution_count": 10,
     "metadata": {},
     "output_type": "execute_result"
    }
   ],
   "source": [
    "from sklearn.preprocessing import MinMaxScaler\n",
    "mms = MinMaxScaler()\n",
    "mms"
   ]
  },
  {
   "cell_type": "code",
   "execution_count": 11,
   "id": "293c53bd",
   "metadata": {},
   "outputs": [
    {
     "data": {
      "text/html": [
       "<div>\n",
       "<style scoped>\n",
       "    .dataframe tbody tr th:only-of-type {\n",
       "        vertical-align: middle;\n",
       "    }\n",
       "\n",
       "    .dataframe tbody tr th {\n",
       "        vertical-align: top;\n",
       "    }\n",
       "\n",
       "    .dataframe thead th {\n",
       "        text-align: right;\n",
       "    }\n",
       "</style>\n",
       "<table border=\"1\" class=\"dataframe\">\n",
       "  <thead>\n",
       "    <tr style=\"text-align: right;\">\n",
       "      <th></th>\n",
       "      <th>TV</th>\n",
       "      <th>Social Media</th>\n",
       "      <th>Influencer</th>\n",
       "      <th>Sales</th>\n",
       "    </tr>\n",
       "  </thead>\n",
       "  <tbody>\n",
       "    <tr>\n",
       "      <th>0</th>\n",
       "      <td>0.066667</td>\n",
       "      <td>0.207984</td>\n",
       "      <td>Mega</td>\n",
       "      <td>0.070696</td>\n",
       "    </tr>\n",
       "    <tr>\n",
       "      <th>1</th>\n",
       "      <td>0.033333</td>\n",
       "      <td>0.172336</td>\n",
       "      <td>Mega</td>\n",
       "      <td>0.046499</td>\n",
       "    </tr>\n",
       "    <tr>\n",
       "      <th>2</th>\n",
       "      <td>0.344444</td>\n",
       "      <td>0.208372</td>\n",
       "      <td>Mega</td>\n",
       "      <td>0.357421</td>\n",
       "    </tr>\n",
       "    <tr>\n",
       "      <th>3</th>\n",
       "      <td>0.811111</td>\n",
       "      <td>0.495098</td>\n",
       "      <td>Mega</td>\n",
       "      <td>0.802231</td>\n",
       "    </tr>\n",
       "    <tr>\n",
       "      <th>4</th>\n",
       "      <td>0.055556</td>\n",
       "      <td>0.100558</td>\n",
       "      <td>Micro</td>\n",
       "      <td>0.076288</td>\n",
       "    </tr>\n",
       "  </tbody>\n",
       "</table>\n",
       "</div>"
      ],
      "text/plain": [
       "         TV  Social Media Influencer     Sales\n",
       "0  0.066667      0.207984       Mega  0.070696\n",
       "1  0.033333      0.172336       Mega  0.046499\n",
       "2  0.344444      0.208372       Mega  0.357421\n",
       "3  0.811111      0.495098       Mega  0.802231\n",
       "4  0.055556      0.100558      Micro  0.076288"
      ]
     },
     "execution_count": 11,
     "metadata": {},
     "output_type": "execute_result"
    }
   ],
   "source": [
    "data[['TV','Social Media','Sales']] = mms.fit_transform(data[['TV','Social Media','Sales']])\n",
    "data.head()"
   ]
  },
  {
   "cell_type": "markdown",
   "id": "57721031",
   "metadata": {},
   "source": [
    "## feature encoding"
   ]
  },
  {
   "cell_type": "code",
   "execution_count": 12,
   "id": "f4bc8415",
   "metadata": {},
   "outputs": [
    {
     "data": {
      "text/plain": [
       "array(['Mega', 'Micro', 'Nano', 'Macro'], dtype=object)"
      ]
     },
     "execution_count": 12,
     "metadata": {},
     "output_type": "execute_result"
    }
   ],
   "source": [
    "data['Influencer'].unique()"
   ]
  },
  {
   "cell_type": "code",
   "execution_count": 13,
   "id": "67e52685",
   "metadata": {},
   "outputs": [
    {
     "data": {
      "text/html": [
       "<div>\n",
       "<style scoped>\n",
       "    .dataframe tbody tr th:only-of-type {\n",
       "        vertical-align: middle;\n",
       "    }\n",
       "\n",
       "    .dataframe tbody tr th {\n",
       "        vertical-align: top;\n",
       "    }\n",
       "\n",
       "    .dataframe thead th {\n",
       "        text-align: right;\n",
       "    }\n",
       "</style>\n",
       "<table border=\"1\" class=\"dataframe\">\n",
       "  <thead>\n",
       "    <tr style=\"text-align: right;\">\n",
       "      <th></th>\n",
       "      <th>TV</th>\n",
       "      <th>Social Media</th>\n",
       "      <th>Influencer</th>\n",
       "      <th>Sales</th>\n",
       "    </tr>\n",
       "  </thead>\n",
       "  <tbody>\n",
       "    <tr>\n",
       "      <th>0</th>\n",
       "      <td>0.066667</td>\n",
       "      <td>0.207984</td>\n",
       "      <td>3</td>\n",
       "      <td>0.070696</td>\n",
       "    </tr>\n",
       "    <tr>\n",
       "      <th>1</th>\n",
       "      <td>0.033333</td>\n",
       "      <td>0.172336</td>\n",
       "      <td>3</td>\n",
       "      <td>0.046499</td>\n",
       "    </tr>\n",
       "    <tr>\n",
       "      <th>2</th>\n",
       "      <td>0.344444</td>\n",
       "      <td>0.208372</td>\n",
       "      <td>3</td>\n",
       "      <td>0.357421</td>\n",
       "    </tr>\n",
       "    <tr>\n",
       "      <th>3</th>\n",
       "      <td>0.811111</td>\n",
       "      <td>0.495098</td>\n",
       "      <td>3</td>\n",
       "      <td>0.802231</td>\n",
       "    </tr>\n",
       "    <tr>\n",
       "      <th>4</th>\n",
       "      <td>0.055556</td>\n",
       "      <td>0.100558</td>\n",
       "      <td>1</td>\n",
       "      <td>0.076288</td>\n",
       "    </tr>\n",
       "  </tbody>\n",
       "</table>\n",
       "</div>"
      ],
      "text/plain": [
       "         TV  Social Media  Influencer     Sales\n",
       "0  0.066667      0.207984           3  0.070696\n",
       "1  0.033333      0.172336           3  0.046499\n",
       "2  0.344444      0.208372           3  0.357421\n",
       "3  0.811111      0.495098           3  0.802231\n",
       "4  0.055556      0.100558           1  0.076288"
      ]
     },
     "execution_count": 13,
     "metadata": {},
     "output_type": "execute_result"
    }
   ],
   "source": [
    "dic = {'Nano':0,'Micro':1,'Macro':2,'Mega':3}\n",
    "data['Influencer'] = data['Influencer'].replace(dic)\n",
    "data.head()"
   ]
  },
  {
   "cell_type": "markdown",
   "id": "bf4e53e8",
   "metadata": {},
   "source": [
    "# step 4: separate x and y"
   ]
  },
  {
   "cell_type": "code",
   "execution_count": 14,
   "id": "cc7030fd",
   "metadata": {},
   "outputs": [],
   "source": [
    "x = data.drop('Sales',axis=1)\n",
    "y = data['Sales']"
   ]
  },
  {
   "cell_type": "markdown",
   "id": "0dd92d9c",
   "metadata": {},
   "source": [
    "# step 5: split the data"
   ]
  },
  {
   "cell_type": "code",
   "execution_count": 15,
   "id": "2e29e3d8",
   "metadata": {},
   "outputs": [],
   "source": [
    "from sklearn.model_selection import train_test_split\n",
    "x_train,x_test,y_train,y_test = train_test_split(x,y,test_size = 0.2, random_state = 0)"
   ]
  },
  {
   "cell_type": "markdown",
   "id": "e495b4c2",
   "metadata": {},
   "source": [
    "# step 6: Apply linear regression on the train set"
   ]
  },
  {
   "cell_type": "code",
   "execution_count": 16,
   "id": "836eb9d6",
   "metadata": {},
   "outputs": [
    {
     "data": {
      "text/html": [
       "<style>#sk-container-id-2 {color: black;background-color: white;}#sk-container-id-2 pre{padding: 0;}#sk-container-id-2 div.sk-toggleable {background-color: white;}#sk-container-id-2 label.sk-toggleable__label {cursor: pointer;display: block;width: 100%;margin-bottom: 0;padding: 0.3em;box-sizing: border-box;text-align: center;}#sk-container-id-2 label.sk-toggleable__label-arrow:before {content: \"▸\";float: left;margin-right: 0.25em;color: #696969;}#sk-container-id-2 label.sk-toggleable__label-arrow:hover:before {color: black;}#sk-container-id-2 div.sk-estimator:hover label.sk-toggleable__label-arrow:before {color: black;}#sk-container-id-2 div.sk-toggleable__content {max-height: 0;max-width: 0;overflow: hidden;text-align: left;background-color: #f0f8ff;}#sk-container-id-2 div.sk-toggleable__content pre {margin: 0.2em;color: black;border-radius: 0.25em;background-color: #f0f8ff;}#sk-container-id-2 input.sk-toggleable__control:checked~div.sk-toggleable__content {max-height: 200px;max-width: 100%;overflow: auto;}#sk-container-id-2 input.sk-toggleable__control:checked~label.sk-toggleable__label-arrow:before {content: \"▾\";}#sk-container-id-2 div.sk-estimator input.sk-toggleable__control:checked~label.sk-toggleable__label {background-color: #d4ebff;}#sk-container-id-2 div.sk-label input.sk-toggleable__control:checked~label.sk-toggleable__label {background-color: #d4ebff;}#sk-container-id-2 input.sk-hidden--visually {border: 0;clip: rect(1px 1px 1px 1px);clip: rect(1px, 1px, 1px, 1px);height: 1px;margin: -1px;overflow: hidden;padding: 0;position: absolute;width: 1px;}#sk-container-id-2 div.sk-estimator {font-family: monospace;background-color: #f0f8ff;border: 1px dotted black;border-radius: 0.25em;box-sizing: border-box;margin-bottom: 0.5em;}#sk-container-id-2 div.sk-estimator:hover {background-color: #d4ebff;}#sk-container-id-2 div.sk-parallel-item::after {content: \"\";width: 100%;border-bottom: 1px solid gray;flex-grow: 1;}#sk-container-id-2 div.sk-label:hover label.sk-toggleable__label {background-color: #d4ebff;}#sk-container-id-2 div.sk-serial::before {content: \"\";position: absolute;border-left: 1px solid gray;box-sizing: border-box;top: 0;bottom: 0;left: 50%;z-index: 0;}#sk-container-id-2 div.sk-serial {display: flex;flex-direction: column;align-items: center;background-color: white;padding-right: 0.2em;padding-left: 0.2em;position: relative;}#sk-container-id-2 div.sk-item {position: relative;z-index: 1;}#sk-container-id-2 div.sk-parallel {display: flex;align-items: stretch;justify-content: center;background-color: white;position: relative;}#sk-container-id-2 div.sk-item::before, #sk-container-id-2 div.sk-parallel-item::before {content: \"\";position: absolute;border-left: 1px solid gray;box-sizing: border-box;top: 0;bottom: 0;left: 50%;z-index: -1;}#sk-container-id-2 div.sk-parallel-item {display: flex;flex-direction: column;z-index: 1;position: relative;background-color: white;}#sk-container-id-2 div.sk-parallel-item:first-child::after {align-self: flex-end;width: 50%;}#sk-container-id-2 div.sk-parallel-item:last-child::after {align-self: flex-start;width: 50%;}#sk-container-id-2 div.sk-parallel-item:only-child::after {width: 0;}#sk-container-id-2 div.sk-dashed-wrapped {border: 1px dashed gray;margin: 0 0.4em 0.5em 0.4em;box-sizing: border-box;padding-bottom: 0.4em;background-color: white;}#sk-container-id-2 div.sk-label label {font-family: monospace;font-weight: bold;display: inline-block;line-height: 1.2em;}#sk-container-id-2 div.sk-label-container {text-align: center;}#sk-container-id-2 div.sk-container {/* jupyter's `normalize.less` sets `[hidden] { display: none; }` but bootstrap.min.css set `[hidden] { display: none !important; }` so we also need the `!important` here to be able to override the default hidden behavior on the sphinx rendered scikit-learn.org. See: https://github.com/scikit-learn/scikit-learn/issues/21755 */display: inline-block !important;position: relative;}#sk-container-id-2 div.sk-text-repr-fallback {display: none;}</style><div id=\"sk-container-id-2\" class=\"sk-top-container\"><div class=\"sk-text-repr-fallback\"><pre>LinearRegression()</pre><b>In a Jupyter environment, please rerun this cell to show the HTML representation or trust the notebook. <br />On GitHub, the HTML representation is unable to render, please try loading this page with nbviewer.org.</b></div><div class=\"sk-container\" hidden><div class=\"sk-item\"><div class=\"sk-estimator sk-toggleable\"><input class=\"sk-toggleable__control sk-hidden--visually\" id=\"sk-estimator-id-2\" type=\"checkbox\" checked><label for=\"sk-estimator-id-2\" class=\"sk-toggleable__label sk-toggleable__label-arrow\">LinearRegression</label><div class=\"sk-toggleable__content\"><pre>LinearRegression()</pre></div></div></div></div></div>"
      ],
      "text/plain": [
       "LinearRegression()"
      ]
     },
     "execution_count": 16,
     "metadata": {},
     "output_type": "execute_result"
    }
   ],
   "source": [
    "from sklearn.linear_model import LinearRegression\n",
    "lr = LinearRegression()\n",
    "lr"
   ]
  },
  {
   "cell_type": "code",
   "execution_count": 17,
   "id": "ef722d93",
   "metadata": {},
   "outputs": [
    {
     "data": {
      "text/html": [
       "<style>#sk-container-id-3 {color: black;background-color: white;}#sk-container-id-3 pre{padding: 0;}#sk-container-id-3 div.sk-toggleable {background-color: white;}#sk-container-id-3 label.sk-toggleable__label {cursor: pointer;display: block;width: 100%;margin-bottom: 0;padding: 0.3em;box-sizing: border-box;text-align: center;}#sk-container-id-3 label.sk-toggleable__label-arrow:before {content: \"▸\";float: left;margin-right: 0.25em;color: #696969;}#sk-container-id-3 label.sk-toggleable__label-arrow:hover:before {color: black;}#sk-container-id-3 div.sk-estimator:hover label.sk-toggleable__label-arrow:before {color: black;}#sk-container-id-3 div.sk-toggleable__content {max-height: 0;max-width: 0;overflow: hidden;text-align: left;background-color: #f0f8ff;}#sk-container-id-3 div.sk-toggleable__content pre {margin: 0.2em;color: black;border-radius: 0.25em;background-color: #f0f8ff;}#sk-container-id-3 input.sk-toggleable__control:checked~div.sk-toggleable__content {max-height: 200px;max-width: 100%;overflow: auto;}#sk-container-id-3 input.sk-toggleable__control:checked~label.sk-toggleable__label-arrow:before {content: \"▾\";}#sk-container-id-3 div.sk-estimator input.sk-toggleable__control:checked~label.sk-toggleable__label {background-color: #d4ebff;}#sk-container-id-3 div.sk-label input.sk-toggleable__control:checked~label.sk-toggleable__label {background-color: #d4ebff;}#sk-container-id-3 input.sk-hidden--visually {border: 0;clip: rect(1px 1px 1px 1px);clip: rect(1px, 1px, 1px, 1px);height: 1px;margin: -1px;overflow: hidden;padding: 0;position: absolute;width: 1px;}#sk-container-id-3 div.sk-estimator {font-family: monospace;background-color: #f0f8ff;border: 1px dotted black;border-radius: 0.25em;box-sizing: border-box;margin-bottom: 0.5em;}#sk-container-id-3 div.sk-estimator:hover {background-color: #d4ebff;}#sk-container-id-3 div.sk-parallel-item::after {content: \"\";width: 100%;border-bottom: 1px solid gray;flex-grow: 1;}#sk-container-id-3 div.sk-label:hover label.sk-toggleable__label {background-color: #d4ebff;}#sk-container-id-3 div.sk-serial::before {content: \"\";position: absolute;border-left: 1px solid gray;box-sizing: border-box;top: 0;bottom: 0;left: 50%;z-index: 0;}#sk-container-id-3 div.sk-serial {display: flex;flex-direction: column;align-items: center;background-color: white;padding-right: 0.2em;padding-left: 0.2em;position: relative;}#sk-container-id-3 div.sk-item {position: relative;z-index: 1;}#sk-container-id-3 div.sk-parallel {display: flex;align-items: stretch;justify-content: center;background-color: white;position: relative;}#sk-container-id-3 div.sk-item::before, #sk-container-id-3 div.sk-parallel-item::before {content: \"\";position: absolute;border-left: 1px solid gray;box-sizing: border-box;top: 0;bottom: 0;left: 50%;z-index: -1;}#sk-container-id-3 div.sk-parallel-item {display: flex;flex-direction: column;z-index: 1;position: relative;background-color: white;}#sk-container-id-3 div.sk-parallel-item:first-child::after {align-self: flex-end;width: 50%;}#sk-container-id-3 div.sk-parallel-item:last-child::after {align-self: flex-start;width: 50%;}#sk-container-id-3 div.sk-parallel-item:only-child::after {width: 0;}#sk-container-id-3 div.sk-dashed-wrapped {border: 1px dashed gray;margin: 0 0.4em 0.5em 0.4em;box-sizing: border-box;padding-bottom: 0.4em;background-color: white;}#sk-container-id-3 div.sk-label label {font-family: monospace;font-weight: bold;display: inline-block;line-height: 1.2em;}#sk-container-id-3 div.sk-label-container {text-align: center;}#sk-container-id-3 div.sk-container {/* jupyter's `normalize.less` sets `[hidden] { display: none; }` but bootstrap.min.css set `[hidden] { display: none !important; }` so we also need the `!important` here to be able to override the default hidden behavior on the sphinx rendered scikit-learn.org. See: https://github.com/scikit-learn/scikit-learn/issues/21755 */display: inline-block !important;position: relative;}#sk-container-id-3 div.sk-text-repr-fallback {display: none;}</style><div id=\"sk-container-id-3\" class=\"sk-top-container\"><div class=\"sk-text-repr-fallback\"><pre>LinearRegression()</pre><b>In a Jupyter environment, please rerun this cell to show the HTML representation or trust the notebook. <br />On GitHub, the HTML representation is unable to render, please try loading this page with nbviewer.org.</b></div><div class=\"sk-container\" hidden><div class=\"sk-item\"><div class=\"sk-estimator sk-toggleable\"><input class=\"sk-toggleable__control sk-hidden--visually\" id=\"sk-estimator-id-3\" type=\"checkbox\" checked><label for=\"sk-estimator-id-3\" class=\"sk-toggleable__label sk-toggleable__label-arrow\">LinearRegression</label><div class=\"sk-toggleable__content\"><pre>LinearRegression()</pre></div></div></div></div></div>"
      ],
      "text/plain": [
       "LinearRegression()"
      ]
     },
     "execution_count": 17,
     "metadata": {},
     "output_type": "execute_result"
    }
   ],
   "source": [
    "lr.fit(x_train,y_train)"
   ]
  },
  {
   "cell_type": "markdown",
   "id": "18cd6860",
   "metadata": {},
   "source": [
    "# step 7: Perform predictions on test set"
   ]
  },
  {
   "cell_type": "code",
   "execution_count": 18,
   "id": "f6e13779",
   "metadata": {},
   "outputs": [
    {
     "data": {
      "text/plain": [
       "array([0.38690229, 0.69632824, 0.80532514, 0.79742262, 0.13383587,\n",
       "       0.02473061, 0.86756736, 0.86120553, 0.03660823, 0.13129117,\n",
       "       0.72883296, 0.42181679, 0.8344823 , 0.60412696, 0.78440881,\n",
       "       0.18583671, 0.77366338, 0.38653693, 0.76090077, 0.48328794,\n",
       "       0.20524661, 0.08891624, 0.17389975, 0.61159586, 0.61343183,\n",
       "       0.58056202, 0.89147403, 0.17345897, 0.83769077, 0.31288966,\n",
       "       0.78229943, 0.96619346, 0.41056235, 0.69712186, 0.85955277,\n",
       "       0.88836963, 0.76107288, 0.39684381, 0.29538115, 0.36770526,\n",
       "       0.29247514, 0.62273387, 0.39803155, 0.0145342 , 0.54903714,\n",
       "       0.92308341, 0.39985572, 0.71804315, 0.95473962, 0.19648839,\n",
       "       0.08901902, 0.325237  , 0.20512593, 0.33410067, 0.68795587,\n",
       "       0.45096475, 0.13100982, 0.58287477, 0.60135797, 0.78142422,\n",
       "       0.01470694, 0.72717655, 0.65579329, 0.83420588, 0.77059426,\n",
       "       0.53859754, 0.22808259, 0.97608159, 0.12130372, 0.37900355,\n",
       "       0.42959813, 0.04561545, 0.79136764, 0.62490241, 0.18368049,\n",
       "       0.31184655, 0.83646289, 0.80465064, 0.84597375, 0.62348012,\n",
       "       0.5819076 , 0.67413052, 0.14201094, 0.12069525, 0.69855477,\n",
       "       0.64525098, 0.2923833 , 0.40996562, 0.07731126, 0.93476334,\n",
       "       0.20579734, 0.07729494, 0.5248497 , 0.17413448, 0.7402151 ,\n",
       "       0.65351731, 0.63307226, 0.38888823, 0.96623674, 0.06650291,\n",
       "       0.90234184, 0.48386464, 0.88112024, 0.13108085, 0.46598269,\n",
       "       0.68480692, 0.07873674, 0.47347466, 0.83635382, 0.49710729,\n",
       "       0.48334674, 0.04714167, 0.16313497, 0.27036793, 0.73031296,\n",
       "       0.9421225 , 0.45095842, 0.88848708, 0.52574065, 0.14115009,\n",
       "       0.53675596, 0.51536976, 0.61231634, 0.38618501, 0.18500779,\n",
       "       0.85863941, 0.109506  , 0.22834535, 0.85877076, 0.26941694,\n",
       "       0.35738327, 0.75164574, 0.61352521, 0.63247222, 0.20825019,\n",
       "       0.89123822, 0.72024793, 0.18470822, 0.87967922, 0.68707366,\n",
       "       0.70347374, 0.60119886, 0.27939006, 0.51599814, 0.56898767,\n",
       "       0.39868319, 0.22805297, 0.56962702, 0.46346945, 0.24838638,\n",
       "       0.02587604, 0.49458253, 0.28019602, 0.35542992, 0.95404928,\n",
       "       0.57795341, 0.35580803, 0.21797396, 0.53810863, 0.97575472,\n",
       "       0.13118123, 0.6557076 , 0.65393698, 0.59295406, 0.77081777,\n",
       "       0.44215311, 0.54787178, 0.1516423 , 0.05639461, 0.55811946,\n",
       "       0.92321941, 0.36509644, 0.24885076, 0.22816236, 0.53754227,\n",
       "       0.82502097, 0.5911246 , 0.5568518 , 0.48376335, 0.579423  ,\n",
       "       0.69651474, 0.97656015, 0.17333996, 0.97481179, 0.64470363,\n",
       "       0.02674858, 0.05598093, 0.77232684, 0.15185718, 0.07000643,\n",
       "       0.22883236, 0.58950829, 0.69525726, 0.34702032, 0.44052826,\n",
       "       0.40031632, 0.32244662, 0.32270629, 0.37630778, 0.60079069,\n",
       "       0.6129393 , 0.14402382, 0.91021085, 0.44119458, 0.70956881,\n",
       "       0.73935769, 0.03545034, 0.14178855, 0.16226174, 0.65540895,\n",
       "       0.11128893, 0.33399539, 0.07707432, 0.3988163 , 0.16448064,\n",
       "       0.8589851 , 0.6463621 , 0.69799045, 0.66355378, 0.13118586,\n",
       "       0.7102836 , 0.02431039, 0.54717573, 0.46203216, 0.50455931,\n",
       "       0.2182217 , 0.01418459, 0.60027178, 0.62190333, 0.10066313,\n",
       "       0.84743054, 0.60264828, 0.1735059 , 0.43132149, 0.6127194 ,\n",
       "       0.49369578, 0.88905778, 0.34541351, 0.4395411 , 0.95291117,\n",
       "       0.47270976, 0.1091211 , 0.51595928, 0.31148299, 0.63329865,\n",
       "       0.07802383, 0.22797177, 0.34519244, 0.71779395, 0.46377404,\n",
       "       0.91187942, 0.68916071, 0.97595335, 0.35518332, 0.9432397 ,\n",
       "       0.34460597, 0.20683525, 0.2077597 , 0.33374852, 0.20497067,\n",
       "       0.55959469, 0.35685485, 0.78341205, 0.3234299 , 0.23874215,\n",
       "       0.48318365, 0.14175464, 0.54635007, 0.42919595, 0.19581118,\n",
       "       0.43957323, 0.7070915 , 0.85660498, 0.43168361, 0.67591274,\n",
       "       0.1952625 , 0.38799218, 0.06931157, 0.05575919, 0.36618611,\n",
       "       0.66373131, 0.67759857, 0.14177981, 0.96413015, 0.28019382,\n",
       "       0.7302318 , 0.84667866, 0.65357079, 0.49501377, 0.14103217,\n",
       "       0.77495041, 0.09952697, 0.02388747, 0.59204533, 0.30097148,\n",
       "       0.69761597, 0.35532232, 0.87710277, 0.71106105, 0.79380093,\n",
       "       0.15401459, 0.54719909, 0.55944318, 0.93478644, 0.29215675,\n",
       "       0.36675997, 0.2056935 , 0.71870219, 0.23024954, 0.66517621,\n",
       "       0.34379716, 0.42891233, 0.01335912, 0.76323154, 0.03444878,\n",
       "       0.81478994, 0.17285335, 0.0671925 , 0.17623845, 0.21698047,\n",
       "       0.32230407, 0.01385237, 0.64360835, 0.92048961, 0.27092507,\n",
       "       0.31303417, 0.73175096, 0.32465747, 0.15286249, 0.95370802,\n",
       "       0.29053599, 0.97621867, 0.12006956, 0.22879471, 0.23948975,\n",
       "       0.40898484, 0.29226721, 0.94223521, 0.02399735, 0.53652462,\n",
       "       0.40997112, 0.84802789, 0.7090821 , 0.16427367, 0.56810854,\n",
       "       0.30354291, 0.81400838, 0.24896066, 0.51717119, 0.88937048,\n",
       "       0.64366451, 0.06865817, 0.35463445, 0.5905504 , 0.02525634,\n",
       "       0.55847827, 0.20593002, 0.3991395 , 0.39788382, 0.76028815,\n",
       "       0.13049003, 0.36478365, 0.94527134, 0.54692155, 0.39734401,\n",
       "       0.37798674, 0.62293059, 0.54703207, 0.67686039, 0.76394716,\n",
       "       0.35528535, 0.14315111, 0.20642902, 0.35563842, 0.46117892,\n",
       "       0.39766005, 0.97575043, 0.27126399, 0.96664667, 0.44016432,\n",
       "       0.67470571, 0.60127458, 0.121955  , 0.97600096, 0.931877  ,\n",
       "       0.32439156, 0.73031545, 0.19501626, 0.97790728, 0.92205372,\n",
       "       0.4513512 , 0.28054102, 0.29075129, 0.58069804, 0.76287131,\n",
       "       0.56963251, 0.79508894, 0.774099  , 0.14367059, 0.3033574 ,\n",
       "       0.40777775, 0.69801979, 0.41871621, 0.95509302, 0.87931582,\n",
       "       0.3230652 , 0.92244222, 0.48690612, 0.56968871, 0.01333321,\n",
       "       0.39911752, 0.68802878, 0.24808328, 0.70986938, 0.93306691,\n",
       "       0.56009755, 0.92311257, 0.81330809, 0.97664123, 0.19591712,\n",
       "       0.74226199, 0.62305054, 0.45072838, 0.25098725, 0.05615852,\n",
       "       0.16281779, 0.48523265, 0.83179246, 0.26925525, 0.65342946,\n",
       "       0.89044874, 0.15193204, 0.01659624, 0.47552907, 0.35575096,\n",
       "       0.22681111, 0.46302428, 0.5472763 , 0.261162  , 0.62242112,\n",
       "       0.55879299, 0.0559685 , 0.95388283, 0.43145417, 0.30127299,\n",
       "       0.48270704, 0.56750876, 0.67651022, 0.69841963, 0.86808765,\n",
       "       0.54006026, 0.26905576, 0.74116947, 0.43053539, 0.87025622,\n",
       "       0.48268959, 0.72828483, 0.76247635, 0.35641982, 0.94267057,\n",
       "       0.84799066, 0.42087097, 0.16271003, 0.35533797, 0.56923451,\n",
       "       0.40838578, 0.21711363, 0.52721076, 0.38632284, 0.63173021,\n",
       "       0.87937311, 0.04637099, 0.09857941, 0.02441096, 0.42925146,\n",
       "       0.83643407, 0.30363331, 0.35740246, 0.8568121 , 0.34572924,\n",
       "       0.51551069, 0.06755861, 0.65423631, 0.07790729, 0.05616957,\n",
       "       0.60114833, 0.21712379, 0.85676922, 0.40754191, 0.87724631,\n",
       "       0.62274729, 0.52541125, 0.30088701, 0.0667611 , 0.60118343,\n",
       "       0.83416302, 0.26912264, 0.88909721, 0.51686075, 0.52573321,\n",
       "       0.5036585 , 0.4836216 , 0.13025891, 0.67600109, 0.35559225,\n",
       "       0.13208013, 0.55933068, 0.54902274, 0.04514195, 0.20529204,\n",
       "       0.67586989, 0.90168209, 0.46283239, 0.84899648, 0.60289048,\n",
       "       0.37572056, 0.528814  , 0.97801151, 0.11002814, 0.1103813 ,\n",
       "       0.59049132, 0.06640408, 0.65455997, 0.70638757, 0.5055435 ,\n",
       "       0.26107962, 0.93380881, 0.29024782, 0.17389751, 0.03683061,\n",
       "       0.94151677, 0.29035123, 0.33527356, 0.96550888, 0.37880575,\n",
       "       0.85918114, 0.03595297, 0.91227308, 0.89152301, 0.68673971,\n",
       "       0.84747828, 0.09962742, 0.24780237, 0.66372004, 0.38774155,\n",
       "       0.41909589, 0.12019907, 0.32502307, 0.70974016, 0.0469    ,\n",
       "       0.07782601, 0.97594131, 0.1331659 , 0.44294505, 0.31259515,\n",
       "       0.3980831 , 0.77287576, 0.08864673, 0.49517174, 0.71954669,\n",
       "       0.75915739, 0.2264285 , 0.97511066, 0.18399494, 0.7728545 ,\n",
       "       0.55986618, 0.49478801, 0.24847298, 0.35577466, 0.72859272,\n",
       "       0.71740864, 0.41138841, 0.74107334, 0.81397296, 0.52467459,\n",
       "       0.52515964, 0.12005355, 0.47358872, 0.2694502 , 0.35674242,\n",
       "       0.09964445, 0.74925581, 0.90350928, 0.86673464, 0.80382996,\n",
       "       0.89893357, 0.75268017, 0.79326543, 0.42888464, 0.15204436,\n",
       "       0.81501039, 0.5703189 , 0.09886276, 0.34679742, 0.7200698 ,\n",
       "       0.89913786, 0.84724935, 0.91250979, 0.81501937, 0.24878176,\n",
       "       0.61382448, 0.5697093 , 0.02471003, 0.4740477 , 0.04677234,\n",
       "       0.81563789, 0.84529193, 0.18678644, 0.04581947, 0.75067632,\n",
       "       0.7098362 , 0.83663137, 0.33415069, 0.01490024, 0.55820019,\n",
       "       0.14233775, 0.59269022, 0.84739453, 0.33361833, 0.14455825,\n",
       "       0.60693016, 0.20564571, 0.18619041, 0.40899371, 0.59181085,\n",
       "       0.25941443, 0.7296517 , 0.45241077, 0.64367585, 0.8553714 ,\n",
       "       0.74857956, 0.8665179 , 0.82707768, 0.88783787, 0.86950776,\n",
       "       0.52588831, 0.96312285, 0.62340348, 0.50731106, 0.76198834,\n",
       "       0.89182683, 0.08811079, 0.32464264, 0.52727737, 0.31341484,\n",
       "       0.09848814, 0.68561233, 0.82525292, 0.77291684, 0.54611219,\n",
       "       0.36566731, 0.19490067, 0.19473943, 0.05627448, 0.91374946,\n",
       "       0.80875434, 0.6007559 , 0.86575113, 0.32442534, 0.87002625,\n",
       "       0.05898045, 0.60133401, 0.17400208, 0.1629579 , 0.14279519,\n",
       "       0.27131198, 0.80541559, 0.12010143, 0.30354493, 0.762523  ,\n",
       "       0.39861456, 0.55903958, 0.35517389, 0.40977737, 0.36534439,\n",
       "       0.847197  , 0.066479  , 0.75953064, 0.3329229 , 0.13204166,\n",
       "       0.93281723, 0.0876791 , 0.61121593, 0.68722057, 0.15220643,\n",
       "       0.47306032, 0.31260445, 0.52747446, 0.1314721 , 0.43338086,\n",
       "       0.37998628, 0.11164805, 0.30224198, 0.96554262, 0.85790213,\n",
       "       0.48228883, 0.53613954, 0.29065742, 0.14312738, 0.53855845,\n",
       "       0.90151039, 0.29065426, 0.61181803, 0.25878859, 0.92071344,\n",
       "       0.41063419, 0.23732103, 0.83704522, 0.59099557, 0.74920131,\n",
       "       0.92118964, 0.65373268, 0.94342239, 0.45348323, 0.49383751,\n",
       "       0.21776847, 0.93328166, 0.83464292, 0.27246003, 0.27071777,\n",
       "       0.85065121, 0.79292128, 0.79201308, 0.3118154 , 0.96612464,\n",
       "       0.15295304, 0.57846141, 0.09871829, 0.63502735, 0.41922393,\n",
       "       0.82690487, 0.31497898, 0.65323323, 0.90954749, 0.02465685,\n",
       "       0.1308184 , 0.02495502, 0.37546252, 0.5268861 , 0.89163757,\n",
       "       0.86698111, 0.3345019 , 0.17620405, 0.29227094, 0.36569987,\n",
       "       0.79439383, 0.85661951, 0.11069823, 0.22746573, 0.30205811,\n",
       "       0.18448768, 0.8035782 , 0.25861724, 0.73997704, 0.45352578,\n",
       "       0.33518495, 0.3348579 , 0.72925355, 0.5800944 , 0.82627116,\n",
       "       0.25859819, 0.12235222, 0.67726639, 0.30311084, 0.05614285,\n",
       "       0.91396253, 0.71098932, 0.88761478, 0.60153038, 0.44142798,\n",
       "       0.18467746, 0.33528116, 0.14172128, 0.60062429, 0.39814108,\n",
       "       0.02597001, 0.52607591, 0.90888046, 0.96309249, 0.67533302,\n",
       "       0.76227825, 0.25825219, 0.13341663, 0.15375774, 0.06782766,\n",
       "       0.62248758, 0.05832854, 0.60331051, 0.38973129, 0.2157507 ,\n",
       "       0.43144244, 0.18407536, 0.11995059, 0.64565272, 0.07729519,\n",
       "       0.53670007, 0.64339476, 0.86854619, 0.37771569, 0.75096302,\n",
       "       0.37818418, 0.63104948, 0.39849832, 0.19486168, 0.49472689,\n",
       "       0.20568397, 0.82550038, 0.07771957, 0.65599893, 0.72947762,\n",
       "       0.9218444 , 0.18534526, 0.93459654, 0.04524611, 0.20494914,\n",
       "       0.69872885, 0.06730788, 0.90087628, 0.69647952, 0.69513166,\n",
       "       0.07886033, 0.86883828, 0.96678835, 0.29165127, 0.12027232,\n",
       "       0.46338011, 0.6878505 , 0.12094393, 0.2158718 , 0.24871729,\n",
       "       0.46084868, 0.45517421, 0.07829918, 0.68861746, 0.79199081,\n",
       "       0.01422268, 0.24785452, 0.02447   , 0.65550282, 0.64654701,\n",
       "       0.71750117, 0.24793604, 0.29121583, 0.72929037, 0.9324298 ,\n",
       "       0.64363884, 0.12313505, 0.80352217, 0.14365234, 0.63198253,\n",
       "       0.92141505, 0.85613936, 0.21665343, 0.31251648, 0.96558168,\n",
       "       0.14397709, 0.95157111, 0.59239748, 0.35589039, 0.40877801,\n",
       "       0.47152919, 0.61241434, 0.09131596, 0.77157698, 0.9001963 ,\n",
       "       0.74021306, 0.84663414, 0.66448522, 0.32493171, 0.33263215,\n",
       "       0.79487811, 0.3671518 , 0.85837832, 0.40874672, 0.81459889,\n",
       "       0.60230272, 0.06855442, 0.36670847, 0.33301069, 0.12046137,\n",
       "       0.88843162, 0.15180635, 0.06681093, 0.21799142, 0.29116959,\n",
       "       0.33509753, 0.81713844, 0.69826166, 0.37040331, 0.36817117,\n",
       "       0.87756025, 0.18461065, 0.36666108, 0.01551704, 0.69740543,\n",
       "       0.72852218, 0.16451625, 0.41870348, 0.54776544, 0.2901769 ,\n",
       "       0.01482563, 0.25928338, 0.30087573, 0.72812875, 0.15156244,\n",
       "       0.54983383, 0.49310031, 0.44220509, 0.3235363 , 0.93105198,\n",
       "       0.46219376, 0.33669428, 0.73913813, 0.2069491 , 0.50368786])"
      ]
     },
     "execution_count": 18,
     "metadata": {},
     "output_type": "execute_result"
    }
   ],
   "source": [
    "y_pred = lr.predict(x_test)\n",
    "y_pred"
   ]
  },
  {
   "cell_type": "markdown",
   "id": "e7a6d738",
   "metadata": {},
   "source": [
    "# step 8: Evaluations"
   ]
  },
  {
   "cell_type": "code",
   "execution_count": 19,
   "id": "a92e10d3",
   "metadata": {},
   "outputs": [
    {
     "data": {
      "text/plain": [
       "0.9947813342427104"
      ]
     },
     "execution_count": 19,
     "metadata": {},
     "output_type": "execute_result"
    }
   ],
   "source": [
    "from sklearn.metrics import r2_score\n",
    "r2_score(y_test,y_pred)"
   ]
  },
  {
   "cell_type": "code",
   "execution_count": 20,
   "id": "20339205",
   "metadata": {},
   "outputs": [
    {
     "data": {
      "text/plain": [
       "array([9.58895157e-01, 8.88532379e-03, 1.04455929e-04])"
      ]
     },
     "execution_count": 20,
     "metadata": {},
     "output_type": "execute_result"
    }
   ],
   "source": [
    "lr.coef_"
   ]
  },
  {
   "cell_type": "code",
   "execution_count": 21,
   "id": "198be3ea",
   "metadata": {},
   "outputs": [
    {
     "data": {
      "text/plain": [
       "0.012964539223743632"
      ]
     },
     "execution_count": 21,
     "metadata": {},
     "output_type": "execute_result"
    }
   ],
   "source": [
    "lr.intercept_"
   ]
  },
  {
   "cell_type": "code",
   "execution_count": 22,
   "id": "c95731c8",
   "metadata": {},
   "outputs": [],
   "source": [
    "# equation is : y = m1x1+m2x2+m3x3+c"
   ]
  }
 ],
 "metadata": {
  "kernelspec": {
   "display_name": "Python 3 (ipykernel)",
   "language": "python",
   "name": "python3"
  },
  "language_info": {
   "codemirror_mode": {
    "name": "ipython",
    "version": 3
   },
   "file_extension": ".py",
   "mimetype": "text/x-python",
   "name": "python",
   "nbconvert_exporter": "python",
   "pygments_lexer": "ipython3",
   "version": "3.10.9"
  }
 },
 "nbformat": 4,
 "nbformat_minor": 5
}
